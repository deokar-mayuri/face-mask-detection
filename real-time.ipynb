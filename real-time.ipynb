{
 "cells": [
  {
   "cell_type": "code",
   "execution_count": 1,
   "id": "8bd569ef-9054-44b5-bfbb-52af194dea8f",
   "metadata": {},
   "outputs": [],
   "source": [
    "import cv2 as cv\n",
    "import mediapipe as mp\n",
    "import math\n",
    "import numpy as np\n",
    "import tensorflow as tf"
   ]
  },
  {
   "cell_type": "code",
   "execution_count": 2,
   "id": "ffec30a4-c12d-4d6a-97d3-c10d3f2d2272",
   "metadata": {},
   "outputs": [
    {
     "name": "stderr",
     "output_type": "stream",
     "text": [
      "C:\\Users\\D\\AppData\\Local\\Programs\\Python\\Python311\\Lib\\site-packages\\keras\\src\\saving\\saving_lib.py:719: UserWarning: Skipping variable loading for optimizer 'rmsprop', because it has 6 variables whereas the saved optimizer has 10 variables. \n",
      "  saveable.load_own_variables(weights_store.get(inner_path))\n"
     ]
    }
   ],
   "source": [
    "face_dt = mp.solutions.face_detection\n",
    "mp_drawing = mp.solutions.drawing_utils\n",
    "color = (0,255,0)\n",
    "thickness = 2\n",
    "mask_status=None\n",
    "cap = cv.VideoCapture(0)\n",
    "\n",
    "\n",
    "rect_start_point, rect_end_point = (0,0), (0,0)\n",
    "facedet = face_dt.FaceDetection(model_selection=0,\n",
    "                                min_detection_confidence=0.5)\n",
    "saved_model = tf.keras.models.load_model(\"saved_models/trained_model.keras\")\n",
    "\n",
    "def normalized_to_pixel_coor( normalized_x, normalized_y, im_width, im_height):\n",
    "    x_px = min(math.floor(normalized_x * im_width), im_width-1)\n",
    "    y_px = min(math.floor(normalized_y * im_height), im_height-1)"
   ]
  },
  {
   "cell_type": "code",
   "execution_count": null,
   "id": "f1486bf4-f239-4198-ace0-154b38728b1a",
   "metadata": {},
   "outputs": [],
   "source": [
    "while cap.isOpened():\n",
    "    success, frame = cap.read()\n",
    "    im_height, im_width,_ = frame.shape\n",
    "    frame.flags.writeable = False\n",
    "    image = cv.cvtColor(frame, cv.COLOR_BGR2RGB)\n",
    "    results = facedet.process(image)\n",
    "    frame.flags.writeable = True\n",
    "    image = cv.cvtColor(image, cv.COLOR_RGB2BGR)\n",
    "    if results.detections:\n",
    "        for detection in results.detections:\n",
    "            bd = detection.location_data.relative_bounding_box\n",
    "            rect_start_point = normalized_to_pixel_coor(bd.xmin, bd.ymin, im_width, im_height)\n",
    "            rect_end_point = normalized_to_pixel_coor(bd.xmin+bd.width, bd.ymin+bd.height, im_width, im_height)\n",
    "            frame = cv.rectangle(image, rect_start_point,rect_end_point,color, thickness)\n",
    "\n",
    "            ####prediction_part\n",
    "            try:\n",
    "                img = frame[rect_start_point[1]:rect_end_point[1],\n",
    "                           rect_start_point[0]:rect_end_point[0]]\n",
    "                img = cv.resize(img, (128, 128))\n",
    "                img = np.array(img)\n",
    "                final_face = tf.expand_dims(img, axis=0)\n",
    "                ypred = saved_model.predict(final_face)\n",
    "                if int(ypred[0]) ==0:\n",
    "                    mask_status=\"Without Mask\"\n",
    "                else:\n",
    "                    mask_status=\"With Mask\"\n",
    "                print(ypred)\n",
    "                cv.putText(frame, mask_status, (50, 50),\n",
    "                       cv.FONT_HERSHEY_SIMPLEX, 1, color, thickness,\n",
    "                       cv.LINE_AA)\n",
    "            except Exception as e:\n",
    "                pass\n",
    "\n",
    "\n",
    "    cv.imshow(\"Face Mask Detection:\", frame)\n",
    "    if cv.waitKey(1) & 0xFF == 27:\n",
    "        break\n",
    "\n",
    "cap.release()\n",
    "cv.destroyAllWindows()"
   ]
  },
  {
   "cell_type": "code",
   "execution_count": null,
   "id": "cf524bc0-52eb-4886-abe3-178f4048b47f",
   "metadata": {},
   "outputs": [],
   "source": []
  }
 ],
 "metadata": {
  "kernelspec": {
   "display_name": "Python 3 (ipykernel)",
   "language": "python",
   "name": "python3"
  },
  "language_info": {
   "codemirror_mode": {
    "name": "ipython",
    "version": 3
   },
   "file_extension": ".py",
   "mimetype": "text/x-python",
   "name": "python",
   "nbconvert_exporter": "python",
   "pygments_lexer": "ipython3",
   "version": "3.11.4"
  }
 },
 "nbformat": 4,
 "nbformat_minor": 5
}
