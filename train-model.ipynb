{
 "cells": [
  {
   "cell_type": "code",
   "execution_count": 1,
   "id": "19cfed33-4086-4be8-89b1-800b0768118f",
   "metadata": {},
   "outputs": [],
   "source": [
    "import os \n",
    "import tensorflow as tf\n",
    "import math\n",
    "import numpy as np \n",
    "import matplotlib.pyplot as plt\n",
    "from tensorflow import keras\n",
    "from tensorflow.keras import layers\n",
    "from tensorflow.keras.models import Sequential\n",
    "from tensorflow.keras.preprocessing import image_dataset_from_directory"
   ]
  },
  {
   "cell_type": "code",
   "execution_count": 2,
   "id": "a64a3343-9f2d-4c01-a859-9ca6e26a0501",
   "metadata": {},
   "outputs": [],
   "source": [
    "IMG_SIZE=128\n",
    "BATCH_SIZE=64\n",
    "SEED=17\n",
    "EPOCHS=10\n",
    "TRAIN_DIR = \"dataset/mask/train\"\n",
    "TEST_DIR = \"dataset/mask/test\"\n",
    "VAL_DIR = \"dataset/mask/val\""
   ]
  },
  {
   "cell_type": "code",
   "execution_count": 4,
   "id": "316116f6-b724-4fce-b46e-b488e873baf8",
   "metadata": {},
   "outputs": [
    {
     "name": "stdout",
     "output_type": "stream",
     "text": [
      "Found 30 files belonging to 2 classes.\n"
     ]
    }
   ],
   "source": [
    "train_gen = image_dataset_from_directory(\n",
    "    TRAIN_DIR,\n",
    "    label_mode='binary',\n",
    "    image_size=(IMG_SIZE,IMG_SIZE),\n",
    "    batch_size=BATCH_SIZE,\n",
    "    interpolation='nearest',\n",
    "    labels='inferred', \n",
    "    shuffle=True\n",
    ")"
   ]
  },
  {
   "cell_type": "code",
   "execution_count": 5,
   "id": "23c68633-9f44-428e-a881-a0b7dd1ceea9",
   "metadata": {},
   "outputs": [
    {
     "name": "stdout",
     "output_type": "stream",
     "text": [
      "Found 30 files belonging to 2 classes.\n"
     ]
    }
   ],
   "source": [
    "test_gen = image_dataset_from_directory(\n",
    "    TEST_DIR,\n",
    "    image_size=(IMG_SIZE,IMG_SIZE),\n",
    "    batch_size=BATCH_SIZE,\n",
    "    shuffle=True,\n",
    "    label_mode='binary',\n",
    "    labels='inferred',\n",
    "    interpolation='nearest')"
   ]
  },
  {
   "cell_type": "code",
   "execution_count": 6,
   "id": "beaad1e1-c9a7-4d0d-8877-a7fa21fb7302",
   "metadata": {},
   "outputs": [
    {
     "name": "stdout",
     "output_type": "stream",
     "text": [
      "Found 30 files belonging to 2 classes.\n"
     ]
    }
   ],
   "source": [
    "val_gen = image_dataset_from_directory(\n",
    "    VAL_DIR,\n",
    "    image_size=(IMG_SIZE,IMG_SIZE),\n",
    "    batch_size=BATCH_SIZE,\n",
    "    shuffle=True,\n",
    "    labels='inferred',\n",
    "    label_mode='binary',\n",
    "    interpolation='nearest'\n",
    ")"
   ]
  },
  {
   "cell_type": "code",
   "execution_count": 7,
   "id": "61a630d8-1f48-41c0-9696-5e3280c7c2ee",
   "metadata": {},
   "outputs": [],
   "source": [
    "def convert_to_float(image,label):\n",
    "    image = tf.image.convert_image_dtype(image, dtype=tf.float32)\n",
    "    return image,label\n",
    "\n",
    "\n",
    "AUTOTUNE = tf.data.experimental.AUTOTUNE\n",
    "\n",
    "ds_train = train_gen.map(convert_to_float).cache().prefetch(buffer_size=AUTOTUNE)\n",
    "ds_val = test_gen.map(convert_to_float).cache().prefetch(buffer_size=AUTOTUNE)\n",
    "ds_test = val_gen.map(convert_to_float).cache().prefetch(buffer_size=AUTOTUNE)"
   ]
  },
  {
   "cell_type": "code",
   "execution_count": 10,
   "id": "d1189660-1288-4465-a1f2-0ee26eda19df",
   "metadata": {},
   "outputs": [],
   "source": [
    "# pretrained_base = tf.keras.models.load_model(\"saved_models/vgg16-pretrained-base\")\n",
    "# pretrained_base.trainable=False\n",
    "\n",
    "#model = Sequential([\n",
    "    # pretrained_base,\n",
    "#    layers.Flatten(),\n",
    "#    layers.Dense(6, activation='relu'),\n",
    "#    layers.Dense(1, activation='sigmoid')])\n",
    "\n",
    "\n",
    "\n",
    "#model.compile(loss='binary_crossentropy',  \n",
    "#             optimizer='adam',\n",
    "#             metrics=['binary_accuracy'])"
   ]
  },
  {
   "cell_type": "code",
   "execution_count": null,
   "id": "42843d67-ed0d-4f86-adcb-b51d501913f2",
   "metadata": {},
   "outputs": [],
   "source": []
  },
  {
   "cell_type": "code",
   "execution_count": 13,
   "id": "eb2c5880-a5e7-4664-8253-08334a72545d",
   "metadata": {},
   "outputs": [
    {
     "name": "stdout",
     "output_type": "stream",
     "text": [
      "Epoch 1/10\n",
      "\u001b[1m1/1\u001b[0m \u001b[32m━━━━━━━━━━━━━━━━━━━━\u001b[0m\u001b[37m\u001b[0m \u001b[1m0s\u001b[0m 93ms/step - binary_accuracy: 0.5000 - loss: 0.6931 - val_binary_accuracy: 0.5000 - val_loss: 0.6931\n",
      "Epoch 2/10\n",
      "\u001b[1m1/1\u001b[0m \u001b[32m━━━━━━━━━━━━━━━━━━━━\u001b[0m\u001b[37m\u001b[0m \u001b[1m0s\u001b[0m 78ms/step - binary_accuracy: 0.5000 - loss: 0.6931 - val_binary_accuracy: 0.5000 - val_loss: 0.6931\n",
      "Epoch 3/10\n",
      "\u001b[1m1/1\u001b[0m \u001b[32m━━━━━━━━━━━━━━━━━━━━\u001b[0m\u001b[37m\u001b[0m \u001b[1m0s\u001b[0m 77ms/step - binary_accuracy: 0.5000 - loss: 0.6931 - val_binary_accuracy: 0.5000 - val_loss: 0.6931\n",
      "Epoch 4/10\n",
      "\u001b[1m1/1\u001b[0m \u001b[32m━━━━━━━━━━━━━━━━━━━━\u001b[0m\u001b[37m\u001b[0m \u001b[1m0s\u001b[0m 77ms/step - binary_accuracy: 0.5000 - loss: 0.6931 - val_binary_accuracy: 0.5000 - val_loss: 0.6931\n",
      "Epoch 5/10\n",
      "\u001b[1m1/1\u001b[0m \u001b[32m━━━━━━━━━━━━━━━━━━━━\u001b[0m\u001b[37m\u001b[0m \u001b[1m0s\u001b[0m 63ms/step - binary_accuracy: 0.5000 - loss: 0.6931 - val_binary_accuracy: 0.5000 - val_loss: 0.6931\n",
      "Epoch 6/10\n",
      "\u001b[1m1/1\u001b[0m \u001b[32m━━━━━━━━━━━━━━━━━━━━\u001b[0m\u001b[37m\u001b[0m \u001b[1m0s\u001b[0m 62ms/step - binary_accuracy: 0.5000 - loss: 0.6931 - val_binary_accuracy: 0.5000 - val_loss: 0.6931\n",
      "Epoch 7/10\n",
      "\u001b[1m1/1\u001b[0m \u001b[32m━━━━━━━━━━━━━━━━━━━━\u001b[0m\u001b[37m\u001b[0m \u001b[1m0s\u001b[0m 65ms/step - binary_accuracy: 0.5000 - loss: 0.6931 - val_binary_accuracy: 0.5000 - val_loss: 0.6931\n",
      "Epoch 8/10\n",
      "\u001b[1m1/1\u001b[0m \u001b[32m━━━━━━━━━━━━━━━━━━━━\u001b[0m\u001b[37m\u001b[0m \u001b[1m0s\u001b[0m 58ms/step - binary_accuracy: 0.5000 - loss: 0.6931 - val_binary_accuracy: 0.5000 - val_loss: 0.6932\n",
      "Epoch 9/10\n",
      "\u001b[1m1/1\u001b[0m \u001b[32m━━━━━━━━━━━━━━━━━━━━\u001b[0m\u001b[37m\u001b[0m \u001b[1m0s\u001b[0m 53ms/step - binary_accuracy: 0.5000 - loss: 0.6932 - val_binary_accuracy: 0.5000 - val_loss: 0.6932\n",
      "Epoch 10/10\n",
      "\u001b[1m1/1\u001b[0m \u001b[32m━━━━━━━━━━━━━━━━━━━━\u001b[0m\u001b[37m\u001b[0m \u001b[1m0s\u001b[0m 59ms/step - binary_accuracy: 0.5000 - loss: 0.6932 - val_binary_accuracy: 0.5000 - val_loss: 0.6932\n",
      "1/1 - 0s - 17ms/step - binary_accuracy: 0.5000 - loss: 0.6932\n",
      "1/1 - 0s - 16ms/step - binary_accuracy: 0.5000 - loss: 0.6932\n"
     ]
    }
   ],
   "source": [
    "#history = model.fit(ds_train, epochs=EPOCHS, validation_data=ds_val)\n",
    "\n",
    "model.evaluate(ds_test, verbose=2)\n",
    "model.evaluate(ds_val, verbose=2)\n",
    "\n",
    "model.save('saved_models/trained_model_v2.h5')"
   ]
  },
  {
   "cell_type": "code",
   "execution_count": null,
   "id": "39ffcf36-3caa-4cdd-987d-a419ffbbae86",
   "metadata": {},
   "outputs": [],
   "source": []
  }
 ],
 "metadata": {
  "kernelspec": {
   "display_name": "Python 3 (ipykernel)",
   "language": "python",
   "name": "python3"
  },
  "language_info": {
   "codemirror_mode": {
    "name": "ipython",
    "version": 3
   },
   "file_extension": ".py",
   "mimetype": "text/x-python",
   "name": "python",
   "nbconvert_exporter": "python",
   "pygments_lexer": "ipython3",
   "version": "3.11.4"
  }
 },
 "nbformat": 4,
 "nbformat_minor": 5
}
